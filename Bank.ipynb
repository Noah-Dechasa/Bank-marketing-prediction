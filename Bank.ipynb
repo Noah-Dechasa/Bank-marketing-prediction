{
 "cells": [
  {
   "cell_type": "markdown",
   "metadata": {},
   "source": [
    "# Data Exploration\n"
   ]
  },
  {
   "cell_type": "code",
   "execution_count": null,
   "metadata": {},
   "outputs": [
    {
     "name": "stdout",
     "output_type": "stream",
     "text": [
      "   age           job  marital  education default  balance housing loan  \\\n",
      "0   58    management  married   tertiary      no     2143     yes   no   \n",
      "1   44    technician   single  secondary      no       29     yes   no   \n",
      "2   33  entrepreneur  married  secondary      no        2     yes  yes   \n",
      "3   47   blue-collar  married    unknown      no     1506     yes   no   \n",
      "4   33       unknown   single    unknown      no        1      no   no   \n",
      "\n",
      "   contact  day month  duration  campaign  pdays  previous poutcome   y  \n",
      "0  unknown    5   may       261         1     -1         0  unknown  no  \n",
      "1  unknown    5   may       151         1     -1         0  unknown  no  \n",
      "2  unknown    5   may        76         1     -1         0  unknown  no  \n",
      "3  unknown    5   may        92         1     -1         0  unknown  no  \n",
      "4  unknown    5   may       198         1     -1         0  unknown  no  \n",
      "<class 'pandas.core.frame.DataFrame'>\n",
      "RangeIndex: 45211 entries, 0 to 45210\n",
      "Data columns (total 17 columns):\n",
      " #   Column     Non-Null Count  Dtype \n",
      "---  ------     --------------  ----- \n",
      " 0   age        45211 non-null  int64 \n",
      " 1   job        45211 non-null  object\n",
      " 2   marital    45211 non-null  object\n",
      " 3   education  45211 non-null  object\n",
      " 4   default    45211 non-null  object\n",
      " 5   balance    45211 non-null  int64 \n",
      " 6   housing    45211 non-null  object\n",
      " 7   loan       45211 non-null  object\n",
      " 8   contact    45211 non-null  object\n",
      " 9   day        45211 non-null  int64 \n",
      " 10  month      45211 non-null  object\n",
      " 11  duration   45211 non-null  int64 \n",
      " 12  campaign   45211 non-null  int64 \n",
      " 13  pdays      45211 non-null  int64 \n",
      " 14  previous   45211 non-null  int64 \n",
      " 15  poutcome   45211 non-null  object\n",
      " 16  y          45211 non-null  object\n",
      "dtypes: int64(7), object(10)\n",
      "memory usage: 5.9+ MB\n",
      "None\n",
      "age          0\n",
      "job          0\n",
      "marital      0\n",
      "education    0\n",
      "default      0\n",
      "balance      0\n",
      "housing      0\n",
      "loan         0\n",
      "contact      0\n",
      "day          0\n",
      "month        0\n",
      "duration     0\n",
      "campaign     0\n",
      "pdays        0\n",
      "previous     0\n",
      "poutcome     0\n",
      "y            0\n",
      "dtype: int64\n",
      "                age        balance           day      duration      campaign  \\\n",
      "count  45211.000000   45211.000000  45211.000000  45211.000000  45211.000000   \n",
      "mean      40.936210    1362.272058     15.806419    258.163080      2.763841   \n",
      "std       10.618762    3044.765829      8.322476    257.527812      3.098021   \n",
      "min       18.000000   -8019.000000      1.000000      0.000000      1.000000   \n",
      "25%       33.000000      72.000000      8.000000    103.000000      1.000000   \n",
      "50%       39.000000     448.000000     16.000000    180.000000      2.000000   \n",
      "75%       48.000000    1428.000000     21.000000    319.000000      3.000000   \n",
      "max       95.000000  102127.000000     31.000000   4918.000000     63.000000   \n",
      "\n",
      "              pdays      previous  \n",
      "count  45211.000000  45211.000000  \n",
      "mean      40.197828      0.580323  \n",
      "std      100.128746      2.303441  \n",
      "min       -1.000000      0.000000  \n",
      "25%       -1.000000      0.000000  \n",
      "50%       -1.000000      0.000000  \n",
      "75%       -1.000000      0.000000  \n",
      "max      871.000000    275.000000  \n"
     ]
    }
   ],
   "source": [
    "import pandas as pd\n",
    "df = pd.read_csv('/Users/noah/Desktop/Work on Resume/bank+marketing/bank/bank-full.csv', delimiter=';')\n",
    "\n",
    "# Display first few rows\n",
    "print(df.head())\n",
    "\n",
    "# Get general info about the dataset\n",
    "print(df.info())\n",
    "\n",
    "# Check for missing values\n",
    "print(df.isnull().sum())\n",
    "\n",
    "# Summary statistics for numerical columns\n",
    "print(df.describe())\n"
   ]
  },
  {
   "cell_type": "code",
   "execution_count": null,
   "metadata": {},
   "outputs": [],
   "source": [
    "print(df.columns)"
   ]
  },
  {
   "cell_type": "markdown",
   "metadata": {},
   "source": [
    "# Encode Categorical Features"
   ]
  },
  {
   "cell_type": "code",
   "execution_count": 52,
   "metadata": {},
   "outputs": [
    {
     "name": "stdout",
     "output_type": "stream",
     "text": [
      "   age  balance  day  duration  campaign  pdays  previous  job_blue-collar  \\\n",
      "0   58     2143    5       261         1     -1         0            False   \n",
      "1   44       29    5       151         1     -1         0            False   \n",
      "2   33        2    5        76         1     -1         0            False   \n",
      "3   47     1506    5        92         1     -1         0             True   \n",
      "4   33        1    5       198         1     -1         0            False   \n",
      "\n",
      "   job_entrepreneur  job_housemaid  ...  month_jun  month_mar  month_may  \\\n",
      "0             False          False  ...      False      False       True   \n",
      "1             False          False  ...      False      False       True   \n",
      "2              True          False  ...      False      False       True   \n",
      "3             False          False  ...      False      False       True   \n",
      "4             False          False  ...      False      False       True   \n",
      "\n",
      "   month_nov  month_oct  month_sep  poutcome_other  poutcome_success  \\\n",
      "0      False      False      False           False             False   \n",
      "1      False      False      False           False             False   \n",
      "2      False      False      False           False             False   \n",
      "3      False      False      False           False             False   \n",
      "4      False      False      False           False             False   \n",
      "\n",
      "   poutcome_unknown  y_yes  \n",
      "0              True  False  \n",
      "1              True  False  \n",
      "2              True  False  \n",
      "3              True  False  \n",
      "4              True  False  \n",
      "\n",
      "[5 rows x 43 columns]\n"
     ]
    }
   ],
   "source": [
    "# One-hot encoding for categorical features\n",
    "df = pd.get_dummies(df, drop_first=True)\n",
    "\n",
    "# Check if encoding was successful\n",
    "print(df.head())"
   ]
  },
  {
   "cell_type": "markdown",
   "metadata": {},
   "source": [
    "Feature Scaling"
   ]
  },
  {
   "cell_type": "code",
   "execution_count": 53,
   "metadata": {},
   "outputs": [
    {
     "name": "stdout",
     "output_type": "stream",
     "text": [
      "        age   balance       day  duration  campaign     pdays  previous  \\\n",
      "0  1.606965  0.256419 -1.298476  0.011016 -0.569351 -0.411453  -0.25194   \n",
      "1  0.288529 -0.437895 -1.298476 -0.416127 -0.569351 -0.411453  -0.25194   \n",
      "2 -0.747384 -0.446762 -1.298476 -0.707361 -0.569351 -0.411453  -0.25194   \n",
      "3  0.571051  0.047205 -1.298476 -0.645231 -0.569351 -0.411453  -0.25194   \n",
      "4 -0.747384 -0.447091 -1.298476 -0.233620 -0.569351 -0.411453  -0.25194   \n",
      "\n",
      "   job_blue-collar  job_entrepreneur  job_housemaid  ...  month_jun  \\\n",
      "0            False             False          False  ...      False   \n",
      "1            False             False          False  ...      False   \n",
      "2            False              True          False  ...      False   \n",
      "3             True             False          False  ...      False   \n",
      "4            False             False          False  ...      False   \n",
      "\n",
      "   month_mar  month_may  month_nov  month_oct  month_sep  poutcome_other  \\\n",
      "0      False       True      False      False      False           False   \n",
      "1      False       True      False      False      False           False   \n",
      "2      False       True      False      False      False           False   \n",
      "3      False       True      False      False      False           False   \n",
      "4      False       True      False      False      False           False   \n",
      "\n",
      "   poutcome_success  poutcome_unknown  y_yes  \n",
      "0             False              True  False  \n",
      "1             False              True  False  \n",
      "2             False              True  False  \n",
      "3             False              True  False  \n",
      "4             False              True  False  \n",
      "\n",
      "[5 rows x 43 columns]\n"
     ]
    }
   ],
   "source": [
    "from sklearn.preprocessing import StandardScaler\n",
    "\n",
    "# Identify numeric columns\n",
    "numeric_cols = df.select_dtypes(include=['float64', 'int64']).columns\n",
    "\n",
    "# Standardize numerical features\n",
    "scaler = StandardScaler()\n",
    "df[numeric_cols] = scaler.fit_transform(df[numeric_cols])\n",
    "\n",
    "# Check the scaled data\n",
    "print(df.head())\n"
   ]
  },
  {
   "cell_type": "markdown",
   "metadata": {},
   "source": [
    "# Split the Data into Training and Testing Sets"
   ]
  },
  {
   "cell_type": "code",
   "execution_count": 54,
   "metadata": {},
   "outputs": [
    {
     "name": "stdout",
     "output_type": "stream",
     "text": [
      "(36168, 42) (9043, 42)\n"
     ]
    }
   ],
   "source": [
    "from sklearn.model_selection import train_test_split\n",
    "\n",
    "# Define features (X) and target variable (y)\n",
    "X = df.drop('y_yes', axis=1)  # All columns except 'y'\n",
    "y = df['y_yes']  # Target variable (whether the client subscribed)\n",
    "\n",
    "# Split data into training and testing sets (80/20 split)\n",
    "X_train, X_test, y_train, y_test = train_test_split(X, y, test_size=0.2, random_state=42)\n",
    "\n",
    "# Check the shape of the split data\n",
    "print(X_train.shape, X_test.shape)\n"
   ]
  },
  {
   "cell_type": "markdown",
   "metadata": {},
   "source": [
    "# Model Building"
   ]
  },
  {
   "cell_type": "code",
   "execution_count": 55,
   "metadata": {},
   "outputs": [
    {
     "name": "stdout",
     "output_type": "stream",
     "text": [
      "Accuracy: 0.8989273471193188\n",
      "Classification Report:\n",
      "               precision    recall  f1-score   support\n",
      "\n",
      "       False       0.92      0.98      0.94      7952\n",
      "        True       0.65      0.34      0.45      1091\n",
      "\n",
      "    accuracy                           0.90      9043\n",
      "   macro avg       0.79      0.66      0.70      9043\n",
      "weighted avg       0.88      0.90      0.88      9043\n",
      "\n"
     ]
    }
   ],
   "source": [
    "from sklearn.linear_model import LogisticRegression\n",
    "from sklearn.metrics import classification_report, accuracy_score\n",
    "\n",
    "# Initialize the model\n",
    "model = LogisticRegression(max_iter=1000)\n",
    "\n",
    "# Train the model\n",
    "model.fit(X_train, y_train)\n",
    "\n",
    "# Make predictions\n",
    "y_pred = model.predict(X_test)\n",
    "\n",
    "# Evaluate the model\n",
    "print(\"Accuracy:\", accuracy_score(y_test, y_pred))\n",
    "print(\"Classification Report:\\n\", classification_report(y_test, y_pred))\n"
   ]
  },
  {
   "cell_type": "code",
   "execution_count": 56,
   "metadata": {},
   "outputs": [
    {
     "name": "stdout",
     "output_type": "stream",
     "text": [
      "Random Forest Accuracy: 0.9037929890523057\n",
      "Random Forest Classification Report:\n",
      "               precision    recall  f1-score   support\n",
      "\n",
      "       False       0.92      0.97      0.95      7952\n",
      "        True       0.67      0.40      0.50      1091\n",
      "\n",
      "    accuracy                           0.90      9043\n",
      "   macro avg       0.80      0.69      0.72      9043\n",
      "weighted avg       0.89      0.90      0.89      9043\n",
      "\n"
     ]
    }
   ],
   "source": [
    "from sklearn.ensemble import RandomForestClassifier\n",
    "from sklearn.metrics import accuracy_score, classification_report\n",
    "\n",
    "# Initialize and train the Random Forest model\n",
    "rf_model = RandomForestClassifier(n_estimators=100, random_state=42)\n",
    "rf_model.fit(X_train, y_train)\n",
    "\n",
    "# Make predictions\n",
    "y_pred_rf = rf_model.predict(X_test)\n",
    "\n",
    "# Evaluate the model\n",
    "print(\"Random Forest Accuracy:\", accuracy_score(y_test, y_pred_rf))\n",
    "print(\"Random Forest Classification Report:\\n\", classification_report(y_test, y_pred_rf))\n"
   ]
  },
  {
   "cell_type": "code",
   "execution_count": 57,
   "metadata": {},
   "outputs": [
    {
     "name": "stdout",
     "output_type": "stream",
     "text": [
      "XGBoost Accuracy: 0.9064469755612076\n",
      "XGBoost Classification Report:\n",
      "               precision    recall  f1-score   support\n",
      "\n",
      "       False       0.93      0.96      0.95      7952\n",
      "        True       0.64      0.50      0.57      1091\n",
      "\n",
      "    accuracy                           0.91      9043\n",
      "   macro avg       0.79      0.73      0.76      9043\n",
      "weighted avg       0.90      0.91      0.90      9043\n",
      "\n"
     ]
    }
   ],
   "source": [
    "import xgboost as xgb\n",
    "from sklearn.metrics import accuracy_score, classification_report\n",
    "\n",
    "# Initialize and train the XGBoost model\n",
    "xgb_model = xgb.XGBClassifier(n_estimators=100, random_state=42)\n",
    "xgb_model.fit(X_train, y_train)\n",
    "\n",
    "# Make predictions\n",
    "y_pred_xgb = xgb_model.predict(X_test)\n",
    "\n",
    "# Evaluate the model\n",
    "print(\"XGBoost Accuracy:\", accuracy_score(y_test, y_pred_xgb))\n",
    "print(\"XGBoost Classification Report:\\n\", classification_report(y_test, y_pred_xgb))\n"
   ]
  },
  {
   "cell_type": "code",
   "execution_count": 58,
   "metadata": {},
   "outputs": [
    {
     "name": "stdout",
     "output_type": "stream",
     "text": [
      "SVM Accuracy: 0.8978215194072764\n",
      "SVM Classification Report:\n",
      "               precision    recall  f1-score   support\n",
      "\n",
      "       False       0.91      0.98      0.94      7952\n",
      "        True       0.67      0.31      0.42      1091\n",
      "\n",
      "    accuracy                           0.90      9043\n",
      "   macro avg       0.79      0.64      0.68      9043\n",
      "weighted avg       0.88      0.90      0.88      9043\n",
      "\n"
     ]
    }
   ],
   "source": [
    "from sklearn.svm import LinearSVC\n",
    "from sklearn.metrics import accuracy_score, classification_report\n",
    "\n",
    "# Initialize and train the LinearSVC model\n",
    "svm_model = LinearSVC(random_state=42)\n",
    "svm_model.fit(X_train, y_train)\n",
    "\n",
    "# Make predictions\n",
    "y_pred_svm = svm_model.predict(X_test)\n",
    "\n",
    "# Evaluate the model\n",
    "print(\"SVM Accuracy:\", accuracy_score(y_test, y_pred_svm))\n",
    "print(\"SVM Classification Report:\\n\", classification_report(y_test, y_pred_svm))\n"
   ]
  },
  {
   "cell_type": "markdown",
   "metadata": {},
   "source": [
    "# Model Evaluation"
   ]
  },
  {
   "cell_type": "code",
   "execution_count": 59,
   "metadata": {},
   "outputs": [
    {
     "name": "stdout",
     "output_type": "stream",
     "text": [
      "Logistic Regression Accuracy: 0.8989273471193188\n",
      "Random Forest Accuracy: 0.9037929890523057\n",
      "XGBoost Accuracy: 0.9064469755612076\n",
      "SVM Accuracy: 0.8978215194072764\n"
     ]
    }
   ],
   "source": [
    "# Example: Print the classification report and accuracy for each model\n",
    "print(\"Logistic Regression Accuracy:\", accuracy_score(y_test, y_pred))\n",
    "print(\"Random Forest Accuracy:\", accuracy_score(y_test, y_pred_rf))\n",
    "print(\"XGBoost Accuracy:\", accuracy_score(y_test, y_pred_xgb))\n",
    "print(\"SVM Accuracy:\", accuracy_score(y_test, y_pred_svm))\n",
    "\n"
   ]
  },
  {
   "cell_type": "markdown",
   "metadata": {},
   "source": [
    "# Evaluation of The Best Model with ROC-AUC and Confusion Matrix\n"
   ]
  },
  {
   "cell_type": "code",
   "execution_count": 60,
   "metadata": {},
   "outputs": [
    {
     "data": {
      "image/png": "[encoded data removed]",
      "text/plain": [
       "<Figure size 640x480 with 2 Axes>"
      ]
     },
     "metadata": {},
     "output_type": "display_data"
    }
   ],
   "source": [
    "from sklearn.metrics import confusion_matrix, ConfusionMatrixDisplay\n",
    "import matplotlib.pyplot as plt\n",
    "\n",
    "# Confusion matrix for the best model XGBoost\n",
    "cm = confusion_matrix(y_test, y_pred_xgb)\n",
    "disp = ConfusionMatrixDisplay(confusion_matrix=cm)\n",
    "disp.plot(cmap='Blues')\n",
    "plt.show()\n"
   ]
  },
  {
   "cell_type": "code",
   "execution_count": 61,
   "metadata": {},
   "outputs": [
    {
     "name": "stdout",
     "output_type": "stream",
     "text": [
      "XGBoost ROC-AUC Score: 0.9289613713444738\n"
     ]
    },
    {
     "data": {
      "image/png": "[encoded data removed]",
      "text/plain": [
       "<Figure size 800x600 with 1 Axes>"
      ]
     },
     "metadata": {},
     "output_type": "display_data"
    }
   ],
   "source": [
    "from sklearn.metrics import roc_curve, roc_auc_score\n",
    "import matplotlib.pyplot as plt\n",
    "\n",
    "# ROC-AUC Score for Random Forest\n",
    "auc = roc_auc_score(y_test, xgb_model.predict_proba(X_test)[:, 1])\n",
    "print(f\"XGBoost ROC-AUC Score: {auc}\")\n",
    "\n",
    "# Plot ROC curve\n",
    "fpr, tpr, thresholds = roc_curve(y_test, xgb_model.predict_proba(X_test)[:, 1])\n",
    "plt.figure(figsize=(8, 6))\n",
    "plt.plot(fpr, tpr, color='blue', label=f'AUC = {auc:.2f}')\n",
    "plt.plot([0, 1], [0, 1], color='red', linestyle='--')\n",
    "plt.title('ROC Curve for XGBoost')\n",
    "plt.xlabel('False Positive Rate')\n",
    "plt.ylabel('True Positive Rate')\n",
    "plt.legend(loc='lower right')\n",
    "plt.show()\n"
   ]
  },
  {
   "cell_type": "markdown",
   "metadata": {},
   "source": [
    "# Feature Importance in XGBoost"
   ]
  },
  {
   "cell_type": "code",
   "execution_count": 62,
   "metadata": {},
   "outputs": [
    {
     "name": "stdout",
     "output_type": "stream",
     "text": [
      "             Feature  Importance\n",
      "40  poutcome_success    0.255527\n",
      "27   contact_unknown    0.080573\n",
      "34         month_mar    0.072684\n",
      "3           duration    0.051856\n",
      "24       housing_yes    0.038562\n",
      "33         month_jun    0.036154\n",
      "38         month_sep    0.032699\n",
      "37         month_oct    0.031732\n",
      "29         month_dec    0.027090\n",
      "32         month_jul    0.024984\n"
     ]
    }
   ],
   "source": [
    "# Feature Importance for xgb_model\n",
    "import pandas as pd\n",
    "import numpy as np\n",
    "\n",
    "# Get feature importance from the trained model\n",
    "feature_importance = xgb_model.feature_importances_\n",
    "\n",
    "# Create a DataFrame to display the importance of each feature\n",
    "features = X_train.columns\n",
    "importance_df = pd.DataFrame({'Feature': features, 'Importance': feature_importance})\n",
    "importance_df = importance_df.sort_values(by='Importance', ascending=False)\n",
    "\n",
    "# Display the top 10 most important features\n",
    "print(importance_df.head(10))\n"
   ]
  },
  {
   "cell_type": "markdown",
   "metadata": {},
   "source": [
    "# Resampling with SMOTE"
   ]
  },
  {
   "cell_type": "code",
   "execution_count": 63,
   "metadata": {},
   "outputs": [
    {
     "name": "stdout",
     "output_type": "stream",
     "text": [
      "Original class distribution: Counter({False: 31970, True: 4198})\n",
      "Resampled class distribution: Counter({False: 31970, True: 31970})\n"
     ]
    }
   ],
   "source": [
    "from imblearn.over_sampling import SMOTE\n",
    "from collections import Counter\n",
    "\n",
    "# Instantiate the SMOTE object\n",
    "smote = SMOTE(random_state=42)\n",
    "\n",
    "# Fit and resample the training data\n",
    "X_train_resampled, y_train_resampled = smote.fit_resample(X_train, y_train)\n",
    "\n",
    "# Check the class distribution after resampling\n",
    "print(f\"Original class distribution: {Counter(y_train)}\")\n",
    "print(f\"Resampled class distribution: {Counter(y_train_resampled)}\")\n"
   ]
  },
  {
   "cell_type": "code",
   "execution_count": 64,
   "metadata": {},
   "outputs": [
    {
     "name": "stdout",
     "output_type": "stream",
     "text": [
      "Scale Pos Weight: 4.307765602667937\n"
     ]
    }
   ],
   "source": [
    "# Calculate the class weight ratio\n",
    "scale_pos_weight = len(y_train) / (2 * sum(y_train == 1))  # Assumes '1' is the minority class\n",
    "print(f\"Scale Pos Weight: {scale_pos_weight}\")\n"
   ]
  },
  {
   "cell_type": "code",
   "execution_count": 67,
   "metadata": {},
   "outputs": [
    {
     "name": "stdout",
     "output_type": "stream",
     "text": [
      "XGBoost Accuracy: 0.8685170850381511\n",
      "XGBoost Classification Report:\n",
      "               precision    recall  f1-score   support\n",
      "\n",
      "       False       0.97      0.87      0.92      7952\n",
      "        True       0.47      0.83      0.60      1091\n",
      "\n",
      "    accuracy                           0.87      9043\n",
      "   macro avg       0.72      0.85      0.76      9043\n",
      "weighted avg       0.91      0.87      0.88      9043\n",
      "\n"
     ]
    }
   ],
   "source": [
    "import xgboost as xgb\n",
    "\n",
    "# Initialize and train the XGBoost model with class weight adjustment\n",
    "xgb_models = xgb.XGBClassifier(\n",
    "    n_estimators=100,\n",
    "    scale_pos_weight=scale_pos_weight,\n",
    "    random_state=42\n",
    ")\n",
    "xgb_models.fit(X_train_resampled, y_train_resampled)\n",
    "\n",
    "# Make predictions and evaluate the model\n",
    "y_pred_xgb = xgb_models.predict(X_test)\n",
    "print(\"XGBoost Accuracy:\", accuracy_score(y_test, y_pred_xgb))\n",
    "print(\"XGBoost Classification Report:\\n\", classification_report(y_test, y_pred_xgb))\n"
   ]
  },
  {
   "cell_type": "code",
   "execution_count": 68,
   "metadata": {},
   "outputs": [
    {
     "name": "stdout",
     "output_type": "stream",
     "text": [
      "Updated Accuracy: 0.8685170850381511\n",
      "Updated Classification Report:\n",
      "               precision    recall  f1-score   support\n",
      "\n",
      "       False       0.97      0.87      0.92      7952\n",
      "        True       0.47      0.83      0.60      1091\n",
      "\n",
      "    accuracy                           0.87      9043\n",
      "   macro avg       0.72      0.85      0.76      9043\n",
      "weighted avg       0.91      0.87      0.88      9043\n",
      "\n"
     ]
    },
    {
     "data": {
      "image/png": "[encoded data removed]",
      "text/plain": [
       "<Figure size 640x480 with 2 Axes>"
      ]
     },
     "metadata": {},
     "output_type": "display_data"
    },
    {
     "data": {
      "image/png": "[encoded data removed]",
      "text/plain": [
       "<Figure size 640x480 with 1 Axes>"
      ]
     },
     "metadata": {},
     "output_type": "display_data"
    },
    {
     "name": "stdout",
     "output_type": "stream",
     "text": [
      "XGBoost ROC-AUC Score: 0.9252321905770093\n"
     ]
    }
   ],
   "source": [
    "# Evaluate the model\n",
    "print(\"Updated Accuracy:\", accuracy_score(y_test, y_pred_xgb))\n",
    "print(\"Updated Classification Report:\\n\", classification_report(y_test, y_pred_xgb))\n",
    "\n",
    "# Plot the confusion matrix\n",
    "cm = confusion_matrix(y_test, y_pred_xgb)\n",
    "disp = ConfusionMatrixDisplay(confusion_matrix=cm)\n",
    "disp.plot(cmap='Blues')\n",
    "plt.show()\n",
    "\n",
    "# ROC-AUC Curve\n",
    "aucs = roc_auc_score(y_test, xgb_models.predict_proba(X_test)[:, 1])\n",
    "fpr, tpr, thresholds = roc_curve(y_test, xgb_models.predict_proba(X_test)[:, 1])\n",
    "plt.plot(fpr, tpr, color='blue', label=f'AUC = {aucs:.2f}')\n",
    "plt.plot([0, 1], [0, 1], color='red', linestyle='--')\n",
    "plt.title('ROC Curve for XGBoost with SMOTE')\n",
    "plt.xlabel('False Positive Rate')\n",
    "plt.ylabel('True Positive Rate')\n",
    "plt.legend(loc='lower right')\n",
    "plt.show()\n",
    "\n",
    "\n",
    "\n",
    "from sklearn.metrics import roc_curve, roc_auc_score\n",
    "import matplotlib.pyplot as plt\n",
    "\n",
    "# ROC-AUC Score for Random Forest\n",
    "auc = roc_auc_score(y_test, xgb_models.predict_proba(X_test)[:, 1])\n",
    "print(f\"XGBoost ROC-AUC Score: {auc}\")\n"
   ]
  },
  {
   "cell_type": "code",
   "execution_count": 82,
   "metadata": {},
   "outputs": [
    {
     "name": "stdout",
     "output_type": "stream",
     "text": [
      "             Feature  Importance\n",
      "40  poutcome_success    0.156417\n",
      "27   contact_unknown    0.089974\n",
      "34         month_mar    0.073118\n",
      "37         month_oct    0.072756\n",
      "3           duration    0.063644\n",
      "4           campaign    0.055188\n",
      "33         month_jun    0.043158\n",
      "35         month_may    0.040273\n",
      "38         month_sep    0.032519\n",
      "24       housing_yes    0.026606\n"
     ]
    }
   ],
   "source": [
    "# Get feature importance from the trained model\n",
    "feature_importance = xgb_models.feature_importances_\n",
    "\n",
    "# Create a DataFrame to display the importance of each feature\n",
    "features = X_train.columns\n",
    "importance_df = pd.DataFrame({'Feature': features, 'Importance': feature_importance})\n",
    "importance_df = importance_df.sort_values(by='Importance', ascending=False)\n",
    "\n",
    "# Display the top 10 most important features\n",
    "print(importance_df.head(10))"
   ]
  }
 ],
 "metadata": {
  "kernelspec": {
   "display_name": "Python 3",
   "language": "python",
   "name": "python3"
  },
  "language_info": {
   "codemirror_mode": {
    "name": "ipython",
    "version": 3
   },
   "file_extension": ".py",
   "mimetype": "text/x-python",
   "name": "python",
   "nbconvert_exporter": "python",
   "pygments_lexer": "ipython3",
   "version": "3.10.5"
  }
 },
 "nbformat": 4,
 "nbformat_minor": 2
}
